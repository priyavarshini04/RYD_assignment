import json
f=open('eco.txt',encoding="utf8")

#creating an instance s which holds all the content of the text file( sample.txt)
#s=f.read()
s=f.read()
for i in s:
    print(i,end="")
1. Which bank is the Banker of the Banks? –RBI
2. For international payments, to which currency is the Indian currency linked? –American Dollars
3. Where is the headquarter of East African Development Bank? –Uganda
4. In which year Statutory Liquidity Ratio was first imposed on banks? –1949
5. The Unclaimed deposits are those deposits which haven’t been operated for how many years? –10 years or more
6. CENVAT is associated with______? –Rate of Indirect Tax
7. Gilt edged means______? –Market of govt. securities
8. What is the effect of Deficit financing? –Inflation
9. Who was the first Indian Governor of RBI? –Shachindra Ray
10. The principal sources of revenue to the State Government in India is______? –Sales Tax
11. Indias Economic Summit was held in December 1999, in________? –New Delhi
12. When a person has a saving account in the bank, the bank assumes
the position of _________? –Debtor
13. Which is the largest Private Sector Bank in India? –HDFC Bank
14. Which ministry formulates fiscal policy? –Finance Ministry
15. In which year SIDBI was established? –1990
16. What is the highest denomination of currency notes in circulation as legal tender in India at present? –Rs. 2000
17. How many banks were nationalized in 1969? –14
18. In April 1980 how many banks were nationalized? –Six
19. When was decimal coinage introduced in India? –1957
20. One rupee notes contain the signature of_______? –Finance Secretary, GOI
21. Which is treated as artificial currency? –SDR
22. Companies pay corporation tax on their______? –Incomes
23. What was the earlier name of the WTO? –GATT
24. If saving exceeds investment, what will be the effect on national income_______? –Remains constant
25. Which is the oldest stock exchange in Asia? –Bombay Stock Exchange
26. Temporary tax levied to obtain additional revenue is called_________? –Fee
27. Which European country is the guarantor of Bank of Central African States? –France
28. When was Consumer Protection Act(COPRA) passed? –1986
29. The Money Order system in India was introduced in the year________? –1880
30. Investment in public works is known as_______? –Capital Expenditure
31. Where are the headquarters of IMF and World Bank located? –Both Washington DC
32. Who appoints Banking Ombudsman? –RBI
33. In which year was Railway Budget in India separated from general budget? –1924
34. Which is the best measure of economic growth of a country? –GNP
35. Economic growth is usually coupled with_____? –Inflation
36. Which is the oldest stock exchange in the world? –Amsterdam Stock Exchange
37. Taxation and the government’s expenditure policy are dealt under which policy? –Fiscal Policy
38. If the price of an inferior good falls, what about its demand? –Remains Constant
39. Which type of unemployment mostly found in India? –Disguised Unemployment
40. Which is the largest Public Sector Bank in India? –State Bank of India
41. What is the main source of revenue to meet different expenditures? –Internal Borrowings
42. Bouncing of cheques has become an offence. What is the punishment for the same? –6 months imprisonment
43. The main source of National Income in India is______? –Agricultural Sector
44. A crossed cheque is one, which can be encased only at which bank? –SBI
45. The currency convertibility concept in its original form originated in? –Bretton Woods Agreement
46. The difference between GNP & GDP is______? –Capital Depreciation
47. 'Brent ' Index is associated with ______? –Crude oil prices
48. The Foreign Exchange Management Act(FEMA) was passed in which year? –1999
49. Which plan is also known as 'Gadgil Yojana'? –3rd FYP
50. Who presented the first union budget of Independent India? –RK Shanmukham Chetty
51. States earn maximum revenue through? –Commercial Taxes
52. Short-term finance is usually for a period ranging up to? –12 months
53. When did India become a member of international Monetary Fund (IMF)? –1947
54. Who coined the term ‘Hindu rate of growth’ for Indian Economy? –Raj Krishna
55. When was the National Bank for Agriculture and Rural Development (NABARD) set up? –1982
56. Where are the headquarters of United Nations Conference on Trade and Development (UNCTAD)? –Geneva
57. Who is called the ‘Father of Economics’? –Adam Smith
58. Which sector of Indian Economy has shown remarkable expansion during the last decade? –Tertiary Sector
59. Which state has the lowest per capita income? –Bihar
60. World Development Report is an annual publication of_________? –International Bank of Reconstruction & Development
61. The slogan of ‘Garibi Hatao’ (Remove Poverty) was launched in which FYP? –4th FYP
62. ‘Golden Handshake Scheme’ is associated with______? –Voluntary Retirement
63. Who has presented the Union Budget of India maximum number of times? –Morarji Desai
64. Who is the chairman of 14th Finance Commission? –Y. V. Reddy
65. The second Five Year plan was based on_____? –Mahalanobis model
66. The first devaluation of Indian currency took place in which year? –1949
67. VAT has been introduced on the recommendation of which commission? –L. K. Jha Commission
68. In which year was Minimum inflation in post economic reform? –1999-2000
69. Who was the Chairman of the first Finance Commission? –K.C. Niyogi
70. Those goods which have positive relationship between price and quantity demanded are called as ….? –Giffen Goods
71. On July 12, 1982, the ARDC was merged into_______? –NABARD
72. Which Indian got Nobel Prize for Economics? –Amartya Sen
73. National Income estimates in India is prepared by _______? –Central Statistical Organization
74. Who wrote the book ‘Planned Economy for India’? –M. Visvesvaraya
75. Which is the oldest Development Financial Institution of India? –IFCI
76. When was EXIM Bank set-up? –1982
77. Which is the ‘Slack Season’ in the Indian Economy? –January-June
78. To meet the need of whom, the concept of Land Development Bank has been developed? –Farmers
79. When was the Rolling plan designed? –1978-83
80. Which country is the largest debtor of UNO? –U.S.
81. Which was first Commercial Bank of India? –Hindustan Bank
82. Participatory Notes (PNs) are associated with which investors? –Foreign Institutional Investments
83. A new private bank is established under which act? –Companies Act 1956
84. How many country are represented in International Monetary Fund (IMF)? –189
85. In which plan was the objective of self-reliance and zero net foreign aid was declared? –Fourth 5 year plan
86. National Rural Development Institute is situated at_______? –Hyderabad
87. Name the oldest insurance company of India? –Oriental Life Insurance Company
88. On which date a Bank publishes its balance sheet? –31st march
89. Excise duty is a tax levied on the_______? –Production of goods
90. Which state stands first in the length of roads in the country? –Maharashtra
91. Deficit financing means that the government borrows money from the______? –RBI
92. “Bad money (if not limited in quantity) drives good money out of circulation.” is the law known as______? –Gresham's law
93. The ""Garibi Hatao"" slogan was coined in______? –1971
94. When was the Reserve Bank of India taken over by the Government? –1948
95. Who is considered the guardian of the Public Purse? –CAG
96. In which year Swarn Jayanti Gram Swarozgar Yojna came into being? –1st April 1999
97. The philosophy of 'Laissez-faire' is associated with? –Industrial States
98. Where in Indian are coins minted? –Mumbai, Calcutta & Hyderabad
99. In India, in which year was the service tax first introduced? –1994
100. National Rural Employment Guarantee Scheme (NREGS) came into force in which year? –2006
e=0
li=[]
liq=[]
sol='?'
count=1
for i in range(1,101):
    start = s.find(str(count)+'.')
    end=s.find('?', start)
    e1=s.find('–', end)
    en=e1+45
    li.append(s[start:end]+'?')
    liq.append(s[e1+1:en])
    #print(s[start:end]+'?')
    #print(s[e1:en])
    count+=1
    li3=[]
cnt=1
for i in liq:
    if '\n' in i:
        a,b=i.split('\n')
        li3.append(str(cnt)+'. '+a)
        
    else:
        li3.append(str(cnt)+'. '+i)
    cnt+=1
    o = open("economics_question.json", "w") 
json.dump(li, o, indent = 4, sort_keys = False) 
o.close()
o = open("economics_answers.json", "w") 
json.dump(li3, o, indent = 4, sort_keys = False) 
o.close()
